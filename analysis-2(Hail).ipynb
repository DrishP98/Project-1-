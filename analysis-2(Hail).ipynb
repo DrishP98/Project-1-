{
 "cells": [
  {
   "cell_type": "code",
   "execution_count": null,
   "id": "b7ad1c39",
   "metadata": {},
   "outputs": [],
   "source": [
    "# Dependencies\n",
    "from matplotlib import pyplot as plt\n",
    "from scipy import stats\n",
    "import numpy as np\n",
    "import pandas as pd\n",
    "from pathlib import Path\n",
    "import requests\n",
    "import hvplot.pandas\n",
    "\n",
    "# Import the OpenWeatherMap API key\n",
    "from api_keys import geoapify_key"
   ]
  },
  {
   "cell_type": "code",
   "execution_count": null,
   "id": "97ea77d9",
   "metadata": {},
   "outputs": [],
   "source": [
    "csv_file = Path(\"crime-data/combined_wacrime.csv\")\n",
    "city_data_df = pd.read_csv(csv_file)\n",
    "\n",
    "\n",
    "#remove last row from data frame\n",
    "city_data_df.drop(city_data_df.tail(1).index,inplace=True)\n",
    "new_crime_data = city_data_df.fillna(0)\n",
    "\n",
    "# Display sample data\n",
    "new_crime_data "
   ]
  },
  {
   "cell_type": "code",
   "execution_count": null,
   "id": "3e8335b0",
   "metadata": {},
   "outputs": [],
   "source": [
    "#check for columns to be removed\n",
    "new_crime_data.columns"
   ]
  },
  {
   "cell_type": "code",
   "execution_count": null,
   "id": "8d8649c0",
   "metadata": {},
   "outputs": [],
   "source": [
    "#Clean Data - Drop date and columns before using groupby\n",
    "no_date_df = new_crime_data.drop(['Month and Year','Homicide Total','Recent Sexual Offence Total',\n",
    "                                  'Historical Sexual Offence Total','Assault (Family) Total','Assault (Non-Family) Total',\n",
    "                                 'Threatening Behaviour (Family) Total','Threatening Behaviour (Non-Family) Total',\n",
    "                                 'Deprivation of Liberty Total', 'Robbery Total','Burglary Total', 'Stealing Total', \n",
    "                                 'Property Damage Total', 'Arson Total','Drug Offences Total', \n",
    "                                 'Receiving and Possession of Stolen Property Total', 'Fraud & Related Offences Total',\n",
    "                                 'Breach of Violence Restraint Order Total', 'Total Selected Miscellaneous Offences',\n",
    "                                 'Unnamed: 32','Unnamed: 52', 'Unnamed: 51', 'Unnamed: 63' ], axis = 1)\n",
    "\n",
    "#Group by region\n",
    "grouped_data = no_date_df.groupby(['Region']).sum()\n",
    "\n",
    "#Add a final column that is sum of all crimes in row\n",
    "grouped_data['Total']=grouped_data.iloc[:,1:-1].sum(axis=1)\n",
    "\n",
    "# Display sample data\n",
    "grouped_data"
   ]
  },
  {
   "cell_type": "code",
   "execution_count": null,
   "id": "0365065d",
   "metadata": {},
   "outputs": [],
   "source": [
    "#Check if cleaned properly\n",
    "grouped_data.columns"
   ]
  },
  {
   "cell_type": "code",
   "execution_count": null,
   "id": "72762113",
   "metadata": {},
   "outputs": [],
   "source": [
    "#Add Latitude and Longitude\n",
    "grouped_data[\"Lat\"] = \"\"\n",
    "grouped_data[\"Lon\"] = \"\"\n",
    "grouped_data"
   ]
  },
  {
   "cell_type": "code",
   "execution_count": null,
   "id": "6aff94a4",
   "metadata": {},
   "outputs": [],
   "source": [
    "#Reset Index and change name so Geo_apify can find\n",
    "indexed_data = grouped_data.reset_index()\n",
    "fixed_data = indexed_data.replace('Mid_West_Gascoyne', 'West_Gascoyne')\n",
    "fixed_data"
   ]
  },
  {
   "cell_type": "code",
   "execution_count": null,
   "id": "060da3df",
   "metadata": {},
   "outputs": [],
   "source": [
    " # Define the API parameters\n",
    "params = {\n",
    "    \"apiKey\":geoapify_key,\n",
    "    \"format\":\"json\"\n",
    "}\n",
    "\n",
    "# Set the base URL\n",
    "base_url = \"https://api.geoapify.com/v1/geocode/search\""
   ]
  },
  {
   "cell_type": "code",
   "execution_count": null,
   "id": "20542f21",
   "metadata": {},
   "outputs": [],
   "source": [
    "# Loop through the cities_pd DataFrame and search coordinates for each city\n",
    "for index, row in fixed_data.iterrows():\n",
    "\n",
    "    # Get the city's name & add \", Australia\" to the string so geoapify finds the correct city\n",
    "    city = row[\"Region\"]  + \", WA, Australia\"\n",
    "\n",
    "    # Add the current city to the parameters\n",
    "    params[\"text\"] = f\"{city}\"\n",
    "\n",
    "    # Make the API request\n",
    "    response = requests.get(base_url, params=params)\n",
    "    \n",
    "    # Convert reponse to JSON\n",
    "    response = response.json()\n",
    "\n",
    "    # Extract latitude and longitude\n",
    "    fixed_data.loc[index, \"Lat\"] = response[\"results\"][0][\"lat\"]\n",
    "    fixed_data.loc[index, \"Lon\"] = response[\"results\"][0][\"lon\"]\n",
    "\n",
    "# Display sample data to confirm that the coordinates appear\n",
    "fixed_data"
   ]
  },
  {
   "cell_type": "code",
   "execution_count": null,
   "id": "01832605",
   "metadata": {},
   "outputs": [],
   "source": [
    "%%capture --no-display\n",
    "# Configure the map plot\n",
    "map_plot = fixed_data.hvplot.points(\n",
    "    \"Lon\",\n",
    "    \"Lat\",\n",
    "    geo = True,\n",
    "    tiles = \"OSM\",\n",
    "    frame_width = 840,\n",
    "    frame_height = 600,\n",
    "    size = \"Total\",\n",
    "    scale = 0.01,\n",
    "    color = \"Region\"\n",
    ")\n",
    "\n",
    "# Display the map plot\n",
    "map_plot"
   ]
  },
  {
   "cell_type": "code",
   "execution_count": null,
   "id": "6706576d",
   "metadata": {},
   "outputs": [],
   "source": [
    "#Drop values that are outside Main Perth\n",
    "dropped_data = fixed_data.drop([3, 6, 9, 13, 16])\n",
    "dropped_data"
   ]
  },
  {
   "cell_type": "code",
   "execution_count": null,
   "id": "1cdab7a9",
   "metadata": {},
   "outputs": [],
   "source": [
    "%%capture --no-display\n",
    "# Configure the map plot\n",
    "map_plot_2 = dropped_data.hvplot.points(\n",
    "    \"Lon\",\n",
    "    \"Lat\",\n",
    "    geo = True,\n",
    "    tiles = \"OSM\",\n",
    "    frame_width = 840,\n",
    "    frame_height = 600,\n",
    "    size = \"Total\",\n",
    "    scale = 0.05,\n",
    "    color = \"Region\"\n",
    ")\n",
    "\n",
    "# Display the map plot\n",
    "map_plot_2"
   ]
  },
  {
   "cell_type": "code",
   "execution_count": null,
   "id": "f00432bf",
   "metadata": {},
   "outputs": [],
   "source": [
    "bigsmall_data = fixed_data.sort_values(by=['Total'])\n",
    "small_big = bigsmall_data.drop([8, 14])\n",
    "small_big"
   ]
  },
  {
   "cell_type": "code",
   "execution_count": null,
   "id": "8fba6285",
   "metadata": {},
   "outputs": [],
   "source": [
    "%%capture --no-display\n",
    "# Configure the map plot\n",
    "map_plot_3 = small_big.hvplot.points(\n",
    "    \"Lon\",\n",
    "    \"Lat\",\n",
    "    geo = True,\n",
    "    tiles = \"OSM\",\n",
    "    frame_width = 840,\n",
    "    frame_height = 600,\n",
    "    size = \"Total\",\n",
    "    scale = 0.01,\n",
    "    color = \"Region\"\n",
    ")\n",
    "\n",
    "\n",
    "# Display the map plot\n",
    "map_plot_3"
   ]
  },
  {
   "cell_type": "code",
   "execution_count": null,
   "id": "a980689d",
   "metadata": {},
   "outputs": [],
   "source": [
    "dropped_data2 = small_big.drop([3, 4, 6, 9, 13, 16])\n",
    "dropped_data2"
   ]
  },
  {
   "cell_type": "code",
   "execution_count": null,
   "id": "258a9076",
   "metadata": {},
   "outputs": [],
   "source": [
    "%%capture --no-display\n",
    "# Configure the map plot\n",
    "map_plot_4 = dropped_data2.hvplot.points(\n",
    "    \"Lon\",\n",
    "    \"Lat\",\n",
    "    geo = True,\n",
    "    tiles = \"OSM\",\n",
    "    frame_width = 840,\n",
    "    frame_height = 600,\n",
    "    size = \"Total\",\n",
    "    scale = 0.05,\n",
    "    color = \"Region\"\n",
    ")\n",
    "\n",
    "# Display the map plot\n",
    "map_plot_4"
   ]
  },
  {
   "cell_type": "code",
   "execution_count": null,
   "id": "a5c6511b",
   "metadata": {},
   "outputs": [],
   "source": [
    "big_small = small_big.iloc[::-1]\n",
    "big_small"
   ]
  },
  {
   "cell_type": "code",
   "execution_count": null,
   "id": "a3673bf3",
   "metadata": {},
   "outputs": [],
   "source": [
    "# Set x axis and tick locations\n",
    "x_axis = np.arange(len(big_small))\n",
    "tick_locations = [value+0.4 for value in x_axis]\n",
    "\n",
    " # Create a list indicating where to write x labels and set figure size to adjust for space\n",
    "\n",
    "plt.figure(figsize=(8,5))\n",
    "plt.bar(x_axis, big_small[\"Total\"], color='r', alpha=0.5, align=\"edge\")\n",
    "plt.xticks(tick_locations, big_small[\"Region\"], rotation=\"vertical\")\n",
    "\n",
    " # Set x and y limits\n",
    "plt.xlim(-0.15, len(x_axis)-0.05)\n",
    "plt.ylim(0, max(big_small[\"Total\"])+10000)\n",
    "\n",
    " # Set a Title and labels\n",
    "plt.title(\"Total Crimes in Each Region\")\n",
    "plt.xlabel(\"Region\")\n",
    "plt.ylabel(\"Total Crimes\")\n",
    "\n",
    "#Line for average and median\n",
    "mean = small_big[\"Total\"].mean()\n",
    "median = small_big[\"Total\"].median()\n",
    "plt.axhline(mean)\n",
    "plt.axhline(median, color = \"black\")\n",
    "\n",
    "# Save the figure\n",
    "plt.savefig(\"figures/Fig1.png\")\n",
    "\n",
    "plt.show"
   ]
  },
  {
   "cell_type": "code",
   "execution_count": null,
   "id": "ef9ccdf6",
   "metadata": {},
   "outputs": [],
   "source": [
    "metro_bigsmall = big_small.drop([3, 4, 6, 9, 13, 16])\n",
    "\n",
    "metro_bigsmall"
   ]
  },
  {
   "cell_type": "code",
   "execution_count": null,
   "id": "b5a91c51",
   "metadata": {},
   "outputs": [],
   "source": [
    "# Set x axis and tick locations\n",
    "x_axis = np.arange(len(metro_bigsmall))\n",
    "tick_locations = [value+0.4 for value in x_axis]\n",
    "\n",
    " # Create a list indicating where to write x labels and set figure size to adjust for space\n",
    "\n",
    "plt.figure(figsize=(8,5))\n",
    "plt.bar(x_axis, metro_bigsmall[\"Total\"], color='r', alpha=0.5, align=\"edge\")\n",
    "plt.xticks(tick_locations, metro_bigsmall[\"Region\"], rotation=\"vertical\")\n",
    "\n",
    " # Set x and y limits\n",
    "plt.xlim(-0.15, len(x_axis)-0.05)\n",
    "plt.ylim(0, max(metro_bigsmall[\"Total\"])+10000)\n",
    "\n",
    " # Set a Title and labels\n",
    "plt.title(\"Total Crimes in Each Region\")\n",
    "plt.xlabel(\"Region\")\n",
    "plt.ylabel(\"Total Crimes\")\n",
    "\n",
    "#Line for average and median\n",
    "mean = metro_bigsmall[\"Total\"].mean()\n",
    "median = metro_bigsmall[\"Total\"].median()\n",
    "plt.axhline(mean)\n",
    "plt.axhline(median, color = \"black\")\n",
    "\n",
    "# Save the figure\n",
    "plt.savefig(\"figures/Fig2.png\")\n",
    "\n",
    "plt.show"
   ]
  },
  {
   "cell_type": "code",
   "execution_count": null,
   "id": "1a434c10",
   "metadata": {},
   "outputs": [],
   "source": []
  }
 ],
 "metadata": {
  "kernelspec": {
   "display_name": "Python 3 (ipykernel)",
   "language": "python",
   "name": "python3"
  },
  "language_info": {
   "codemirror_mode": {
    "name": "ipython",
    "version": 3
   },
   "file_extension": ".py",
   "mimetype": "text/x-python",
   "name": "python",
   "nbconvert_exporter": "python",
   "pygments_lexer": "ipython3",
   "version": "3.10.13"
  }
 },
 "nbformat": 4,
 "nbformat_minor": 5
}
