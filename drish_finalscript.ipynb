{
 "cells": [
  {
   "cell_type": "code",
   "execution_count": null,
   "id": "198eb115",
   "metadata": {},
   "outputs": [],
   "source": [
    "# Dependencies\n",
    "from matplotlib import pyplot as plt\n",
    "from scipy import stats\n",
    "import numpy as np\n",
    "import pandas as pd\n",
    "from pathlib import Path"
   ]
  },
  {
   "cell_type": "code",
   "execution_count": null,
   "id": "a50adc41",
   "metadata": {},
   "outputs": [],
   "source": [
    "# set path\n",
    "crime_all_path = \"crime-data/combined_wacrime.csv\"\n",
    "\n",
    "# read the csv file into pandas and remove unnamed columns\n",
    "crime_all_df = pd.read_csv(crime_all_path, index_col=0, encoding=\"UTF-8\")\n",
    "crime_all_df.loc[:, ~crime_all_df.columns.str.contains('Unnamed')]\n",
    "crime_all_df = crime_all_df.dropna(how=\"any\", axis=0)"
   ]
  },
  {
   "cell_type": "code",
   "execution_count": null,
   "id": "e4b389f2",
   "metadata": {},
   "outputs": [],
   "source": [
    "# drop the total columns\n",
    "crime_all_df_totals = crime_all_df[['Month and Year',\n",
    "                                    'Homicide Total', \n",
    "                                   'Recent Sexual Offence Total', \n",
    "                                   'Historical Sexual Offence Total',\n",
    "                                   'Assault (Family) Total',\n",
    "                                   'Assault (Non-Family) Total',\n",
    "                                   'Threatening Behaviour (Family) Total',\n",
    "                                   'Threatening Behaviour (Non-Family) Total',\n",
    "                                   'Deprivation of Liberty Total',\n",
    "                                   'Robbery Total',\n",
    "                                   'Burglary Total',\n",
    "                                   'Stealing of Motor Vehicle',\n",
    "                                   'Stealing Total',\n",
    "                                   'Property Damage Total',\n",
    "                                   'Arson Total',\n",
    "                                   'Drug Offences Total',\n",
    "                                   'Receiving and Possession of Stolen Property Total',\n",
    "                                   'Regulated Weapons Offences',\n",
    "                                   'Graffiti',\n",
    "                                   'Fraud & Related Offences Total',\n",
    "                                   'Breach of Violence Restraint Order Total'\n",
    "                                    ]]\n",
    "crime_all_df_totals"
   ]
  },
  {
   "cell_type": "code",
   "execution_count": null,
   "id": "150e99d1",
   "metadata": {},
   "outputs": [],
   "source": [
    "# drop null values and convert dtype\n",
    "no_date = crime_all_df_totals.drop(columns=[\"Month and Year\"])\n",
    "no_date = no_date.astype(int)\n",
    "no_date"
   ]
  },
  {
   "cell_type": "code",
   "execution_count": null,
   "id": "d3df6c8f",
   "metadata": {},
   "outputs": [],
   "source": [
    "#count the total numbers of each type of crime\n",
    "count_totals = no_date.loc[:, \"Homicide Total\" : \"Breach of Violence Restraint Order Total\"].sum()\n",
    "count_totals"
   ]
  },
  {
   "cell_type": "code",
   "execution_count": null,
   "id": "2d787b91",
   "metadata": {},
   "outputs": [],
   "source": [
    "round(count_totals.describe(), 2)"
   ]
  },
  {
   "cell_type": "code",
   "execution_count": null,
   "id": "4f7b77b1",
   "metadata": {
    "scrolled": true
   },
   "outputs": [],
   "source": [
    "#display above results in bar graph from higest to lowest\n",
    "totals_plot = count_totals.sort_values().plot(kind='barh', figsize=(8,10), alpha=1, align=\"edge\")\n",
    "plt.ylabel(\"Type of crime\")\n",
    "plt.xlabel(\"Total number\")\n",
    "plt.title(\"Highest to lowest type of crimes in WA from Jan 07 - Sep 23\")\n",
    "\n",
    "# save the fig\n",
    "plt.savefig(\"crime-data/Fig1.png\", bbox_inches=\"tight\")\n",
    "\n",
    "plt.show()"
   ]
  },
  {
   "cell_type": "code",
   "execution_count": null,
   "id": "36b8f5cd",
   "metadata": {},
   "outputs": [],
   "source": [
    "# find the top highest totals and create a string for the remaining\n",
    "high_five = count_totals.sort_values(ascending=False).head(5)\n",
    "other_highfive = count_totals.sort_values(ascending=False).tail(15).sum()"
   ]
  },
  {
   "cell_type": "code",
   "execution_count": null,
   "id": "ed60979c",
   "metadata": {
    "scrolled": true
   },
   "outputs": [],
   "source": [
    "# enter above found data in a list and plot as pie to visualise top 5 and a slice for all others\n",
    "slices = ['Stealing Total', 'Property Damage Total ', 'Burglary Total', 'Drug Offences Total', 'Fraud & Related Offences Total', 'Others']\n",
    "numbers_top = [2601045, 1096425, 1063386, 783887, 690245, 2384598]\n",
    "colors = [\"yellowgreen\", \"red\", \"deepskyblue\", \"lightcoral\", \"purple\", \"slategrey\"]\n",
    "\n",
    "plt.pie(numbers_top, labels=slices, colors=colors,\n",
    "        autopct=\"%1.1f%%\", shadow=True, startangle=140)\n",
    "\n",
    "plt.axis(\"equal\")\n",
    "plt.title(\"Top 5 crimes in WA 2007-23\")\n",
    "plt.savefig(\"crime-data/Fig2.png\", bbox_inches=\"tight\")\n",
    "plt.show()"
   ]
  },
  {
   "cell_type": "code",
   "execution_count": null,
   "id": "91b906a8",
   "metadata": {},
   "outputs": [],
   "source": [
    "#group all areas and drop metroplitan/regional as its overlapping\n",
    "region_grouped = no_date.groupby(['Region'])\n",
    "region_totals = region_grouped.sum().transpose()\n",
    "region_totals = region_totals.drop(columns=[\"Metropolitan\", \"Regional\"])\n",
    "region_totals"
   ]
  },
  {
   "cell_type": "code",
   "execution_count": null,
   "id": "7f8a142d",
   "metadata": {},
   "outputs": [],
   "source": [
    "# create a stacked bar graph for all types against areas\n",
    "region_totals = pd.DataFrame(region_totals)\n",
    "\n",
    "region_totals.plot(kind=\"barh\", stacked=True, figsize=(10,12), alpha=1)\n",
    "plt.title(\"Numbers of different types of crimes displayed by areas 2007-2023\")\n",
    "plt.xlabel(\"Number of each crime\")\n",
    "plt.ylabel(\"Types of crime\")\n",
    "plt.savefig(\"crime-data/Fig3.png\", bbox_inches=\"tight\")\n",
    "plt.show()"
   ]
  },
  {
   "cell_type": "code",
   "execution_count": null,
   "id": "6efa68e9",
   "metadata": {},
   "outputs": [],
   "source": [
    "# Rename Month and year column to Date\n",
    "crime_all_df_totals = crime_all_df_totals.rename(columns={'Month and Year': 'Date'})\n",
    "\n",
    "# Convert Date column to date time\n",
    "crime_all_df_totals['Date'] = pd.to_datetime(crime_all_df_totals['Date'], format='%b-%y')\n",
    "\n",
    "# Create new columns for Month and Year\n",
    "crime_all_df_totals['Month'] = crime_all_df_totals['Date'].dt.month\n",
    "crime_all_df_totals['Year'] = crime_all_df_totals['Date'].dt.year\n",
    "\n",
    "# Remove the date and month as not relevant to my questions\n",
    "new_df = crime_all_df_totals.drop(columns=[\"Month\", \"Date\"], axis=0)\n",
    "\n",
    "# Set index to Year\n",
    "new_df = new_df.set_index(\"Year\")\n",
    "new_df"
   ]
  },
  {
   "cell_type": "code",
   "execution_count": null,
   "id": "fd5b1034",
   "metadata": {
    "scrolled": false
   },
   "outputs": [],
   "source": [
    "# Convert to int type\n",
    "new_df = new_df.astype(int)\n",
    "# Group the years\n",
    "years_df = new_df.groupby([\"Year\"])\n",
    "# Grouped year_wacrime_df\n",
    "years_df = years_df.sum().head(17)\n",
    "years_df"
   ]
  },
  {
   "cell_type": "code",
   "execution_count": null,
   "id": "4a862ce6",
   "metadata": {},
   "outputs": [],
   "source": [
    "round(years_df.describe(), 2)"
   ]
  },
  {
   "cell_type": "code",
   "execution_count": null,
   "id": "039fb96e",
   "metadata": {},
   "outputs": [],
   "source": [
    "# create a stacked bar chart for types against years\n",
    "plotyear = years_df.transpose()\n",
    "\n",
    "plottear = pd.DataFrame(plotyear)\n",
    "\n",
    "plotyear.plot(kind=\"barh\", stacked=True, figsize=(10,12), alpha=1)\n",
    "plt.title(\"Numbers of different types of crimes displayed by years from 2007-2023\")\n",
    "plt.xlabel(\"Number of each crime\")\n",
    "plt.ylabel(\"Types of crime\")\n",
    "plt.savefig(\"crime-data/Fig4.png\", bbox_inches=\"tight\")\n",
    "plt.show()"
   ]
  },
  {
   "cell_type": "code",
   "execution_count": null,
   "id": "f05e4400",
   "metadata": {},
   "outputs": [],
   "source": [
    "#summary stats\n",
    "count_totals\n",
    "# Determine which measure of central tendency is most appropriate to describe the data\n",
    "# Determine if there are any potential outliers in the average occupancy in California\n",
    "quartiles = count_totals.quantile([.25,.5,.75])\n",
    "lowerq = quartiles[0.25]\n",
    "upperq = quartiles[0.75]\n",
    "iqr = upperq-lowerq\n",
    "\n",
    "print(f\"The lower quartile of totals of crime types is: {lowerq}\")\n",
    "print(f\"The upper quartile of totals of crime types is: {upperq}\")\n",
    "print(f\"The interquartile range of totals of crime types is: {iqr}\")\n",
    "print(f\"The the median of total number of types of crime is: {quartiles[0.5]} \")\n",
    "\n",
    "lower_bound = lowerq - (1.5*iqr)\n",
    "upper_bound = upperq + (1.5*iqr)\n",
    "print(f\"Values below {lower_bound} could be outliers.\")\n",
    "print(f\"Values above {upper_bound} could be outliers.\")\n",
    "print(\"There are no outliers\")"
   ]
  },
  {
   "cell_type": "code",
   "execution_count": null,
   "id": "d99337dd",
   "metadata": {},
   "outputs": [],
   "source": []
  }
 ],
 "metadata": {
  "kernelspec": {
   "display_name": "Python 3 (ipykernel)",
   "language": "python",
   "name": "python3"
  },
  "language_info": {
   "codemirror_mode": {
    "name": "ipython",
    "version": 3
   },
   "file_extension": ".py",
   "mimetype": "text/x-python",
   "name": "python",
   "nbconvert_exporter": "python",
   "pygments_lexer": "ipython3",
   "version": "3.11.5"
  }
 },
 "nbformat": 4,
 "nbformat_minor": 5
}
