{
 "cells": [
  {
   "cell_type": "code",
   "execution_count": 1,
   "id": "e402792c",
   "metadata": {},
   "outputs": [],
   "source": [
    "from matplotlib import pyplot as plt\n",
    "from scipy import stats\n",
    "import numpy as np\n",
    "import pandas as pd\n",
    "from pathlib import Path\n"
   ]
  },
  {
   "cell_type": "code",
   "execution_count": 32,
   "id": "a30dd28a",
   "metadata": {
    "scrolled": false
   },
   "outputs": [],
   "source": [
    "# Create a path variable to find and clean the data\n",
    "combined_wacrime = Path('crime-data/combined_wacrime.csv')\n",
    "combined_wacrime_df = pd.read_csv(combined_wacrime)\n",
    "\n",
    "combined_wacrime_df = combined_wacrime_df[combined_wacrime_df.Region != 'Regional']\n",
    "combined_wacrime_df = combined_wacrime_df[combined_wacrime_df.Region != 'Metropolitan']\n",
    "\n",
    "# Rename Month and year column to Date\n",
    "combined_wacrime_df['Date'] = pd.to_datetime(combined_wacrime_df['Month and Year'], format='%b-%y')\n",
    "\n",
    "# Create new columns for Month and Year\n",
    "combined_wacrime_df['Month'] = combined_wacrime_df['Date'].dt.month\n",
    "combined_wacrime_df['Year'] = combined_wacrime_df['Date'].dt.year\n",
    "\n",
    "# Drop all Nan Rows\n",
    "combined_wacrime_df = combined_wacrime_df.dropna(how='any', axis=0)\n",
    "\n",
    "combined_wacrime_df.head()\n"
   ]
  },
  {
   "cell_type": "code",
   "execution_count": 33,
   "id": "957ca0e2",
   "metadata": {},
   "outputs": [],
   "source": [
    "# Reduce columns (take out all total columns)\n",
    "combined_wacrime_df = combined_wacrime_df[['Month', 'Year','Murder','Attempted / Conspiracy to Murder','Manslaughter',\n",
    "                                            'Driving Causing Death','Sexual Assault','Non-Assaultive Sexual Offences',\n",
    "                                            'Serious Assault (Family)','Common Assault (Family)','Serious Assault (Non-Family)',\n",
    "                                            'Common Assault (Non-Family)','Assault Police Officer','Threatening Behaviour (Family)',\n",
    "                                            'Possess Weapon to Cause Fear (Family)','Threatening Behaviour (Non-Family)',\n",
    "                                            'Possess Weapon to Cause Fear (Non-Family)','Kidnapping / Child Stealing',\n",
    "                                            'Deprivation of Liberty','Robbery (Business)','Robbery (Non-Business)',\n",
    "                                            'Burglary (Dwelling)','Burglary (Non-Dwelling)','Stealing of Motor Vehicle',\n",
    "                                            'Stealing From Motor Vehicle (Contents or Parts)',\n",
    "                                            'Stealing From Retail Premises (Shoplift)','Stealing From Dwelling',\n",
    "                                            'Stealing From Other Premises or Place','Stealing as a Servant',\n",
    "                                            'Stealing (Not Elsewhere Classified)','Criminal Damage','Damage','Cause Bushfire',\n",
    "                                            'Cause Damage by Fire','Other Fire Related Offences','Drug Dealing','Drug Possession',\n",
    "                                            'Possession of Drug Paraphernalia','Cultivate or Manufacture Drugs','Other Drug Offences',\n",
    "                                            'Possess Stolen Property','Receiving Stolen Property','Regulated Weapons Offences',\n",
    "                                            'Graffiti','Forgery','Fraud (Credit Card)','Fraud (Not Elsewhere Classified)',\n",
    "                                            'Breach of Family Violence Restraint Order','Breach of Violence Restraint Order',\n",
    "                                            'Breach of Police Order']]\n",
    "combined_wacrime_df"
   ]
  },
  {
   "cell_type": "code",
   "execution_count": 34,
   "id": "60832443",
   "metadata": {},
   "outputs": [
    {
     "name": "stdout",
     "output_type": "stream",
     "text": [
      "<pandas.core.groupby.generic.DataFrameGroupBy object at 0x0000026DC3AA7610>\n"
     ]
    }
   ],
   "source": [
    "# Replace all Nan values with '0'\n",
    "combined_wacrime_df = combined_wacrime_df.replace(np.nan, 0)\n",
    "\n",
    "# Convert all values to integers\n",
    "combined_wacrime_df = combined_wacrime_df.astype(int)\n",
    "\n",
    "# Convert Month to month name\n",
    "combined_wacrime_df['Month'] = pd.to_datetime(combined_wacrime_df['Month'], format='%m').dt.month_name().str.slice(stop=3)                                         \n",
    "                           \n",
    "# Group the years\n",
    "year_wacrime_df = combined_wacrime_df.groupby(['Year'])\n",
    "print(year_wacrime_df)\n",
    "\n",
    "# Grouped year_wacrime_df\n",
    "year_wacrime_df.sum().head(17)"
   ]
  },
  {
   "cell_type": "code",
   "execution_count": 35,
   "id": "ee46c7be",
   "metadata": {},
   "outputs": [],
   "source": [
    "# Total the number of crimes for each year\n",
    "total_crimes_df = combined_wacrime_df.groupby('Year').sum(numeric_only=True, min_count=0)\n",
    "\n",
    "# Print totals\n",
    "total_crimes_df.sum(axis=1)\n",
    "\n",
    "# Create a Total Crime column\n",
    "total_crimes_df['Total Crimes'] = total_crimes_df.sum(axis=1)\n",
    "\n",
    "# Format Column and print results                 \n",
    "years_df = total_crimes_df.loc[:,['Total Crimes']].head(17).style.format(\"{:,.0f}\")\n",
    "years_df"
   ]
  },
  {
   "cell_type": "code",
   "execution_count": 44,
   "id": "db5abf3f",
   "metadata": {},
   "outputs": [],
   "source": [
    "year_line = total_crimes_df.plot(kind='line', color='green', grid=True, y='Total Crimes', title=('Crime Rate Statistics For Each Year (2007 - 2023)'))\n",
    "year_line.set_ylabel('Total Crimes')\n",
    "year_line.set_xlabel('Year')\n",
    "plt.show"
   ]
  },
  {
   "cell_type": "code",
   "execution_count": 43,
   "id": "6cf49779",
   "metadata": {
    "scrolled": true
   },
   "outputs": [],
   "source": [
    "# Re-create graph in bar chart highlighting each Year\n",
    "years = ['2007', '2008', '2009', '2010', '2011', '2012', '2013', '2014', '2015', '2016', '2017', '2018', '2019', '2020', '2021', '2022', '2023']\n",
    "total_crimes = total_crimes_df['Total Crimes']\n",
    "x_axis = np.arange(0, len(years))\n",
    "tick_locations = []\n",
    "for x in x_axis:\n",
    "    tick_locations.append(x)\n",
    "plt.title('Crime Rate Statistics For Each Year (2007 - 2023)')\n",
    "plt.xlabel('Year')\n",
    "plt.ylabel('Total Crimes')\n",
    "\n",
    "plt.xlim(-0.75, len(years)-.25)\n",
    "plt.ylim(200000, max(total_crimes) + 10000)\n",
    "\n",
    "plt.bar(x_axis, total_crimes, facecolor='lightblue', alpha=0.75, align='center')\n",
    "plt.xticks(tick_locations, years, rotation=45, rotation_mode=\"anchor\", ha=\"right\", wrap=True)\n",
    "plt.show()\n"
   ]
  },
  {
   "cell_type": "code",
   "execution_count": 38,
   "id": "45d2cef7",
   "metadata": {},
   "outputs": [
    {
     "name": "stdout",
     "output_type": "stream",
     "text": [
      "<pandas.core.groupby.generic.DataFrameGroupBy object at 0x0000026DC7104CD0>\n"
     ]
    }
   ],
   "source": [
    "# Drop year column\n",
    "combined_wacrime_df = combined_wacrime_df.drop(columns=['Year'])\n",
    "\n",
    "# Group the Months\n",
    "months_wacrime_df = combined_wacrime_df.groupby(['Month'])\n",
    "print(months_wacrime_df)\n",
    "\n",
    "months_wacrime_df.sum().head(12)\n"
   ]
  },
  {
   "cell_type": "code",
   "execution_count": 39,
   "id": "7707b94b",
   "metadata": {},
   "outputs": [],
   "source": [
    "# Total the number of crimes for each Month over the 17 year period\n",
    "total_crimes_months_df = combined_wacrime_df.groupby('Month').sum(numeric_only=True, min_count=0)\n",
    "\n",
    "# Print totals\n",
    "total_crimes_months_df.sum(axis=1)\n",
    "\n",
    "# Create a Total Crime column\n",
    "total_crimes_months_df['Total Crimes'] = total_crimes_months_df.sum(axis=1)\n",
    "\n",
    "# Reorder the Months\n",
    "new_order = ['Jan', 'Feb', 'Mar', 'Apr', 'May', 'Jun', 'Jul', 'Aug', 'Sep', 'Oct', 'Nov', 'Dec']\n",
    "total_crimes_months_df = total_crimes_months_df.reindex(new_order, axis=0)\n",
    "\n",
    "# Format Column and rows                  \n",
    "months_df = total_crimes_months_df.loc[:,['Total Crimes']].head(12).style.format('{:,.0f}')\n",
    "\n",
    "months_df\n"
   ]
  },
  {
   "cell_type": "code",
   "execution_count": 41,
   "id": "31f9d7e8",
   "metadata": {},
   "outputs": [],
   "source": [
    "# Create line graph of results\n",
    "month_plt = total_crimes_months_df.plot(kind='line', grid=True, color='blue', y='Total Crimes', title=('Crime Rate Statistics For Each Month Collectively (2007 - 2023)'))\n",
    "month_plt.set_ylabel('Total Crimes')\n",
    "month_plt.set_xlabel('Month')\n",
    "month_plt.legend(loc='best')\n",
    "plt.show\n"
   ]
  },
  {
   "cell_type": "markdown",
   "id": "bd88d693",
   "metadata": {},
   "source": []
  },
  {
   "cell_type": "code",
   "execution_count": 42,
   "id": "319e811c",
   "metadata": {},
   "outputs": [],
   "source": [
    "# Re-create graph in bar chart highlighting each month\n",
    "months = ['Jan', 'Feb', 'Mar', 'Apr', 'May', 'Jun', 'Jul', 'Aug', 'Sep', 'Oct', 'Nov', 'Dec']\n",
    "total_crimes = total_crimes_months_df['Total Crimes']\n",
    "x_axis = np.arange(0, len(months))\n",
    "tick_locations = []\n",
    "for x in x_axis:\n",
    "    tick_locations.append(x)\n",
    "plt.title('Crime Rate Statistics For Each Month Collectively (2007 - 2023)')\n",
    "plt.xlabel(\"Month\")\n",
    "plt.ylabel('Total Crimes')\n",
    "\n",
    "plt.xlim(-0.75, len(months)-.25)\n",
    "plt.ylim(330000, max(total_crimes) + 10000)\n",
    "\n",
    "plt.bar(x_axis, total_crimes, facecolor='purple', alpha=0.75, align='center')\n",
    "plt.xticks(tick_locations, months)\n",
    "plt.show()"
   ]
  }
 ],
 "metadata": {
  "kernelspec": {
   "display_name": "Python 3 (ipykernel)",
   "language": "python",
   "name": "python3"
  },
  "language_info": {
   "codemirror_mode": {
    "name": "ipython",
    "version": 3
   },
   "file_extension": ".py",
   "mimetype": "text/x-python",
   "name": "python",
   "nbconvert_exporter": "python",
   "pygments_lexer": "ipython3",
   "version": "3.11.5"
  }
 },
 "nbformat": 4,
 "nbformat_minor": 5
}
