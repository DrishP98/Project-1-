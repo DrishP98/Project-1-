{
 "cells": [
  {
   "cell_type": "code",
   "execution_count": null,
   "id": "198eb115",
   "metadata": {},
   "outputs": [],
   "source": [
    "# Dependencies\n",
    "from matplotlib import pyplot as plt\n",
    "from scipy import stats\n",
    "import numpy as np\n",
    "import pandas as pd\n",
    "from pathlib import Path"
   ]
  },
  {
   "cell_type": "code",
   "execution_count": null,
   "id": "a50adc41",
   "metadata": {},
   "outputs": [],
   "source": [
    "# set path\n",
    "crime_all_path = \"crime-data/combined_wacrime.csv\"\n",
    "\n",
    "# read the csv file into pandas and remove unnamed columns\n",
    "crime_all_df = pd.read_csv(crime_all_path, index_col=0, encoding=\"UTF-8\")\n",
    "crime_all_df.loc[:, ~crime_all_df.columns.str.contains('Unnamed')]\n",
    "crime_all_df"
   ]
  },
  {
   "cell_type": "code",
   "execution_count": null,
   "id": "e4b389f2",
   "metadata": {},
   "outputs": [],
   "source": [
    "# drop the total columns\n",
    "crime_all_df.drop(columns=['Homicide Total', \n",
    "                                   'Recent Sexual Offence Total', \n",
    "                                   'Historical Sexual Offence Total',\n",
    "                                   'Assault (Family) Total',\n",
    "                                   'Assault (Non-Family) Total',\n",
    "                                   'Threatening Behaviour (Family) Total',\n",
    "                                   'Threatening Behaviour (Non-Family) Total',\n",
    "                                   'Deprivation of Liberty Total',\n",
    "                                   'Robbery Total',\n",
    "                                   'Burglary Total',\n",
    "                                   'Stealing Total',\n",
    "                                   'Property Damage Total',\n",
    "                                   'Arson Total',\n",
    "                                   'Drug Offences Total',\n",
    "                                   'Receiving and Possession of Stolen Property Total',\n",
    "                                   'Fraud & Related Offences Total',\n",
    "                                   'Breach of Violence Restraint Order Total',\n",
    "                                   'Total Selected Miscellaneous Offences'],\n",
    "                                   axis=0, inplace=True)\n",
    "crime_all_df"
   ]
  },
  {
   "cell_type": "code",
   "execution_count": null,
   "id": "95919b02",
   "metadata": {},
   "outputs": [],
   "source": [
    "# drop null values and remaining unnamed columns\n",
    "clean_df = crime_all_df.dropna()\n",
    "cleaned_df = clean_df.drop(columns=[\"Unnamed: 32\", \"Unnamed: 51\", \"Unnamed: 52\", \"Unnamed: 63\" ], axis=0)\n",
    "cleaned_df2 = cleaned_df.drop(columns=[\"Month and Year\"])\n",
    "cleaned_df2"
   ]
  },
  {
   "cell_type": "code",
   "execution_count": null,
   "id": "f694dd14",
   "metadata": {},
   "outputs": [],
   "source": [
    "# now that nulls are dropped, convert all to integer type\n",
    "cleaned_df2 = cleaned_df2.astype(int)\n",
    "cleaned_df2"
   ]
  },
  {
   "cell_type": "code",
   "execution_count": null,
   "id": "d3df6c8f",
   "metadata": {},
   "outputs": [],
   "source": [
    "#count the total numbers of each type of crime\n",
    "count_all = cleaned_df2.loc[:, \"Murder\" : \"Breach of Police Order\"].sum()\n",
    "count_all"
   ]
  },
  {
   "cell_type": "code",
   "execution_count": null,
   "id": "3d41e336",
   "metadata": {},
   "outputs": [],
   "source": [
    "#display above results in bar graph from higest to lowest\n",
    "types_plot = count_all.sort_values().plot(kind='barh', figsize=(8,10), alpha=1, align=\"edge\")\n",
    "plt.ylabel(\"Type of crime\")\n",
    "plt.xlabel(\"Total number\")\n",
    "plt.title(\"Highest to lowest type of crimes in WA from Jan 07 - Sep 23\")\n",
    "plt.show()"
   ]
  },
  {
   "cell_type": "code",
   "execution_count": null,
   "id": "1e3b2f36",
   "metadata": {},
   "outputs": [],
   "source": [
    "# different and easy visual of top five types of crime\n",
    "top_5_crimes = count_all.sort_values(ascending=False).head(5)\n",
    "top_5_crimes\n",
    "\n",
    "# Labels for the sections of our pie chart\n",
    "my_labels = [\"Stealing (Not Elsewhere Classified)\", \"Damage\", \"Burglary (Dwelling)\", \"Common Assault (Family)\",\"Drug Possession\"]\n",
    "\n",
    "plt.pie(top_5_crimes, labels=my_labels,\n",
    "        autopct=\"%1.1f%%\", shadow=True, startangle=140)\n",
    "# Create axes which are equal so we have a perfect circle\n",
    "plt.title(\"Highest five crimes in WA 2007-2023\")\n",
    "plt.axis(\"equal\")\n",
    "plt.show()"
   ]
  },
  {
   "cell_type": "code",
   "execution_count": null,
   "id": "677368d6",
   "metadata": {},
   "outputs": [],
   "source": [
    "# now for lowest five types of crimes\n",
    "low_5_crimes = count_all.sort_values(ascending=True).head(5)\n",
    "low_5_crimes\n",
    "\n",
    "# Labels for the sections of our pie chart\n",
    "my_labels = [\"Manslaughter\",\"Attempted / Conspiracy to Murder\", \"Kidnapping / Child Stealing\", \"Murder\", \"Other Fire Related Offences\"]\n",
    "\n",
    "plt.pie(low_5_crimes, labels=my_labels,\n",
    "        autopct=\"%1.1f%%\", shadow=True, startangle=140)\n",
    "# Create axes which are equal so we have a perfect circle\n",
    "plt.title(\"Lowest five crimes in WA 2007-2023\")\n",
    "plt.axis(\"equal\")\n",
    "plt.show()\n"
   ]
  },
  {
   "cell_type": "code",
   "execution_count": null,
   "id": "6efa68e9",
   "metadata": {},
   "outputs": [],
   "source": [
    "# now looking at crime data by areas\n",
    "region_df = cleaned_df.groupby([\"Region\"])\n",
    "region_df"
   ]
  },
  {
   "cell_type": "code",
   "execution_count": null,
   "id": "0d2c4337",
   "metadata": {},
   "outputs": [],
   "source": [
    "# find totals of each crime type in each area\n",
    "totals_by_region = region_df.sum()\n",
    "totals_by_region"
   ]
  },
  {
   "cell_type": "code",
   "execution_count": null,
   "id": "14dfac05",
   "metadata": {},
   "outputs": [],
   "source": []
  }
 ],
 "metadata": {
  "kernelspec": {
   "display_name": "Python 3 (ipykernel)",
   "language": "python",
   "name": "python3"
  },
  "language_info": {
   "codemirror_mode": {
    "name": "ipython",
    "version": 3
   },
   "file_extension": ".py",
   "mimetype": "text/x-python",
   "name": "python",
   "nbconvert_exporter": "python",
   "pygments_lexer": "ipython3",
   "version": "3.11.5"
  }
 },
 "nbformat": 4,
 "nbformat_minor": 5
}
