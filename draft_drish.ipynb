{
 "cells": [
  {
   "cell_type": "code",
   "execution_count": null,
   "id": "198eb115",
   "metadata": {},
   "outputs": [],
   "source": [
    "# Dependencies\n",
    "from matplotlib import pyplot as plt\n",
    "from scipy import stats\n",
    "import numpy as np\n",
    "import pandas as pd\n",
    "from pathlib import Path"
   ]
  },
  {
   "cell_type": "code",
   "execution_count": null,
   "id": "a50adc41",
   "metadata": {},
   "outputs": [],
   "source": [
    "# set path\n",
    "crime_all_path = \"crime-data/combined_wacrime.csv\"\n",
    "\n",
    "# read the csv file into pandas and remove unnamed columns\n",
    "crime_all_df = pd.read_csv(crime_all_path, index_col=0, encoding=\"UTF-8\")\n",
    "crime_all_df.loc[:, ~crime_all_df.columns.str.contains('Unnamed')]\n",
    "crime_all_df = crime_all_df.dropna(how=\"any\", axis=0)"
   ]
  },
  {
   "cell_type": "code",
   "execution_count": null,
   "id": "e4b389f2",
   "metadata": {},
   "outputs": [],
   "source": [
    "# drop the total columns\n",
    "crime_all_df = crime_all_df.drop(columns=['Homicide Total', \n",
    "                                   'Recent Sexual Offence Total', \n",
    "                                   'Historical Sexual Offence Total',\n",
    "                                   'Assault (Family) Total',\n",
    "                                   'Assault (Non-Family) Total',\n",
    "                                   'Threatening Behaviour (Family) Total',\n",
    "                                   'Threatening Behaviour (Non-Family) Total',\n",
    "                                   'Deprivation of Liberty Total',\n",
    "                                   'Robbery Total',\n",
    "                                   'Burglary Total',\n",
    "                                   'Stealing Total',\n",
    "                                   'Property Damage Total',\n",
    "                                   'Arson Total',\n",
    "                                   'Drug Offences Total',\n",
    "                                   'Receiving and Possession of Stolen Property Total',\n",
    "                                   'Fraud & Related Offences Total',\n",
    "                                   'Breach of Violence Restraint Order Total',\n",
    "                                   'Total Selected Miscellaneous Offences'],\n",
    "                                   axis=0)\n",
    "crime_all_df"
   ]
  },
  {
   "cell_type": "code",
   "execution_count": null,
   "id": "150e99d1",
   "metadata": {},
   "outputs": [],
   "source": [
    "# drop null values and remaining unnamed column\n",
    "clean_df = crime_all_df.drop(columns=[\"Unnamed: 32\", \"Unnamed: 51\", \"Unnamed: 52\", \"Unnamed: 63\" ], axis=0)\n",
    "cleaned_df = clean_df.drop(columns=[\"Month and Year\"], axis=0)\n",
    "cleaned_df"
   ]
  },
  {
   "cell_type": "code",
   "execution_count": null,
   "id": "6151318c",
   "metadata": {},
   "outputs": [],
   "source": [
    "# now that nulls are dropped, convert all to integer type\n",
    "cleaned_df = cleaned_df.astype(int)\n",
    "cleaned_df"
   ]
  },
  {
   "cell_type": "code",
   "execution_count": null,
   "id": "d3df6c8f",
   "metadata": {},
   "outputs": [],
   "source": [
    "#count the total numbers of each type of crime\n",
    "count_all = cleaned_df.loc[:, \"Murder\" : \"Breach of Police Order\"].sum()\n",
    "count_all"
   ]
  },
  {
   "cell_type": "code",
   "execution_count": null,
   "id": "4f7b77b1",
   "metadata": {
    "scrolled": true
   },
   "outputs": [],
   "source": [
    "#display above results in bar graph from higest to lowest\n",
    "types_plot = count_all.sort_values().plot(kind='barh', figsize=(8,10), alpha=1, align=\"edge\")\n",
    "plt.ylabel(\"Type of crime\")\n",
    "plt.xlabel(\"Total number\")\n",
    "plt.title(\"Highest to lowest type of crimes in WA from Jan 07 - Sep 23\")\n",
    "plt.show()"
   ]
  },
  {
   "cell_type": "code",
   "execution_count": null,
   "id": "36b8f5cd",
   "metadata": {},
   "outputs": [],
   "source": [
    "# find the top highest totals and create a string for the remaining\n",
    "top_5_crimes = count_all.sort_values(ascending=False).head(5)\n",
    "other_crimes = count_all.sort_values(ascending=False).tail(44).sum()"
   ]
  },
  {
   "cell_type": "code",
   "execution_count": null,
   "id": "ed60979c",
   "metadata": {
    "scrolled": true
   },
   "outputs": [],
   "source": [
    "# enter above found data in a list and plot as pie to visualise top 5 and a slice for all others\n",
    "slices = ['Stealing (Not Elsewhere Classified)', 'Damage', 'Burglary (Dwelling)', 'Common Assault (Family)', 'Drug Possession', 'Others']\n",
    "numbers_top = [1643932, 917896, 780266, 430094, 403628, 4149526]\n",
    "colors = [\"yellowgreen\", \"red\", \"deepskyblue\", \"lightcoral\", \"purple\", \"slategrey\"]\n",
    "\n",
    "plt.pie(numbers_top, labels=slices, colors=colors,\n",
    "        autopct=\"%1.1f%%\", shadow=True, startangle=140)\n",
    "\n",
    "plt.axis(\"equal\")\n",
    "plt.title(\"Higest 5 crimes in WA 2007-2023\")\n",
    "plt.show()"
   ]
  },
  {
   "cell_type": "code",
   "execution_count": null,
   "id": "896b1418",
   "metadata": {},
   "outputs": [],
   "source": [
    "# find the top highest totals and create a string for the remaining\n",
    "low_5_crimes = count_all.sort_values(ascending=True).head(5)\n",
    "other_crimes_low = count_all.sort_values(ascending=True).tail(44).sum()"
   ]
  },
  {
   "cell_type": "code",
   "execution_count": null,
   "id": "ec5588e7",
   "metadata": {},
   "outputs": [],
   "source": [
    "# enter above found data in a list and plot as pie to visualise bottom 5 and a slice for all others\n",
    "sections = ['Manslaughter', 'Attempted / Conspiracy to Murder', 'Kidnapping / Child Stealing', 'Murder', 'Other Fire Related Offences']\n",
    "numbers_low = [274, 452, 754, 976, 1248]\n",
    "\n",
    "plt.pie(low_5_crimes, labels=sections, autopct=\"%1.1f%%\", shadow=True, startangle=140)\n",
    "\n",
    "plt.axis(\"equal\")\n",
    "plt.title(\"Lowest 5 crimes in WA 2007-2023 (shown as a 100% however is overall less than 1% of all crimes)\")\n",
    "plt.show()\n"
   ]
  },
  {
   "cell_type": "code",
   "execution_count": null,
   "id": "91b906a8",
   "metadata": {},
   "outputs": [],
   "source": [
    "region_df = cleaned_df.groupby(['Region'])\n",
    "region_sum = region_df.sum().transpose()\n",
    "region_sum = region_sum[[\"Regional\", \"Metropolitan\"]]"
   ]
  },
  {
   "cell_type": "code",
   "execution_count": null,
   "id": "7f8a142d",
   "metadata": {},
   "outputs": [],
   "source": [
    "region_sum = pd.DataFrame(region_sum)\n",
    "region_sum\n",
    "\n",
    "region_sum.plot(kind=\"barh\", stacked=True, figsize=(10,12), alpha=1)\n",
    "plt.title(\"Numbers of different types of crimes displayed in the last five years\")\n",
    "plt.xlabel(\"Number of each crime\")\n",
    "plt.ylabel(\"Types of crime\")\n",
    "plt.show()\n"
   ]
  },
  {
   "cell_type": "code",
   "execution_count": null,
   "id": "6efa68e9",
   "metadata": {},
   "outputs": [],
   "source": [
    "# Rename Month and year column to Date\n",
    "clean_df = clean_df.rename(columns={'Month and Year': 'Date'})\n",
    "\n",
    "# Convert Date column to date time\n",
    "clean_df['Date'] = pd.to_datetime(clean_df['Date'], format='%b-%y')\n",
    "\n",
    "# Create new columns for Month and Year\n",
    "clean_df['Month'] = clean_df['Date'].dt.month\n",
    "clean_df['Year'] = clean_df['Date'].dt.year\n",
    "\n",
    "# Remove the date and month as not relevant to my questions\n",
    "clean_df2 = clean_df.drop(columns=[\"Month\", \"Date\"], axis=0)\n",
    "\n",
    "# Set index to Year\n",
    "clean_df2 = clean_df2.set_index(\"Year\")\n",
    "\n",
    "clean_df2.head()"
   ]
  },
  {
   "cell_type": "code",
   "execution_count": null,
   "id": "fd5b1034",
   "metadata": {
    "scrolled": false
   },
   "outputs": [],
   "source": [
    "# Delete all NaN rows in index\n",
    "clean_df2 = clean_df2.reset_index().dropna().set_index('Year')\n",
    "clean_df2.index = clean_df2.index.astype(int)\n",
    "# Group the years\n",
    "year_df = clean_df2.groupby([\"Year\"])\n",
    "# Grouped year_wacrime_df\n",
    "year_df = year_df.sum().head(17)\n",
    "year_df"
   ]
  },
  {
   "cell_type": "code",
   "execution_count": null,
   "id": "039fb96e",
   "metadata": {},
   "outputs": [],
   "source": [
    "plotdata = year_df.tail(10).transpose()\n",
    "\n",
    "plotdata = pd.DataFrame(plotdata)\n",
    "plotdata\n",
    "\n",
    "plotdata.plot(kind=\"barh\", stacked=True, figsize=(10,12), alpha=1)\n",
    "plt.title(\"Numbers of different types of crimes displayed in the last ten years\")\n",
    "plt.xlabel(\"Number of each crime\")\n",
    "plt.ylabel(\"Types of crime\")\n",
    "plt.show()"
   ]
  }
 ],
 "metadata": {
  "kernelspec": {
   "display_name": "Python 3 (ipykernel)",
   "language": "python",
   "name": "python3"
  },
  "language_info": {
   "codemirror_mode": {
    "name": "ipython",
    "version": 3
   },
   "file_extension": ".py",
   "mimetype": "text/x-python",
   "name": "python",
   "nbconvert_exporter": "python",
   "pygments_lexer": "ipython3",
   "version": "3.11.5"
  }
 },
 "nbformat": 4,
 "nbformat_minor": 5
}
