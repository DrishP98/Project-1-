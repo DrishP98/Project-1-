{
 "cells": [
  {
   "cell_type": "code",
   "execution_count": null,
   "id": "b7ad1c39",
   "metadata": {},
   "outputs": [],
   "source": [
    "# Dependencies\n",
    "from matplotlib import pyplot as plt\n",
    "from scipy import stats\n",
    "import numpy as np\n",
    "import pandas as pd\n",
    "from pathlib import Path"
   ]
  },
  {
   "cell_type": "code",
   "execution_count": null,
   "id": "83853667",
   "metadata": {},
   "outputs": [],
   "source": [
    "# Load vehicle data set into pandas\n",
    "\n",
    "files = []\n",
    "files.append(\"goldfields-esperance\")\n",
    "files.append(\"mandurah\")\n",
    "files.append(\"mirrabooka\")\n",
    "files.append(\"south_west\")\n",
    "files.append(\"armadale\")\n",
    "files.append(\"great_southern\")\n",
    "files.append(\"perth\")\n",
    "files.append(\"wheatbelt\")\n",
    "files.append(\"cannington\")\n",
    "files.append(\"joondalup\")\n",
    "files.append(\"mid_west-gascoyne\")\n",
    "files.append(\"plibara\")\n",
    "files.append(\"fremantle\")\n",
    "files.append(\"kimberley\")\n",
    "files.append(\"midland\")\n",
    "\n",
    "files_metro_region = []\n",
    "files_metro_region.append(\"metropolitan\")\n",
    "files_metro_region.append(\"regional\")\n",
    "\n",
    "crime_all_df = pd.DataFrame()\n",
    "for file in files:\n",
    "    file_path = Path(f\"crime-data/{file}\")\n",
    "    temp_df = pd.read_csv(file_path)\n",
    "\n",
    "\n",
    "vehicle_data.head()"
   ]
  }
 ],
 "metadata": {
  "kernelspec": {
   "display_name": "Python 3 (ipykernel)",
   "language": "python",
   "name": "python3"
  },
  "language_info": {
   "codemirror_mode": {
    "name": "ipython",
    "version": 3
   },
   "file_extension": ".py",
   "mimetype": "text/x-python",
   "name": "python",
   "nbconvert_exporter": "python",
   "pygments_lexer": "ipython3",
   "version": "3.10.13"
  }
 },
 "nbformat": 4,
 "nbformat_minor": 5
}
