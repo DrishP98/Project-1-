{
 "cells": [
  {
   "cell_type": "code",
   "execution_count": null,
   "id": "b7ad1c39",
   "metadata": {},
   "outputs": [],
   "source": [
    "# Dependencies\n",
    "from matplotlib import pyplot as plt\n",
    "from scipy import stats\n",
    "import numpy as np\n",
    "import pandas as pd\n",
    "from pathlib import Path"
   ]
  },
  {
   "cell_type": "code",
   "execution_count": null,
   "id": "83853667",
   "metadata": {},
   "outputs": [],
   "source": [
    "# Load vehicle data set into pandas\n",
    "\n",
    "regions = []\n",
    "regions.append(\"goldfields-esperance\")\n",
    "regions.append(\"mandurah\")\n",
    "regions.append(\"mirrabooka\")\n",
    "regions.append(\"south_west\")\n",
    "regions.append(\"armadale\")\n",
    "regions.append(\"great_southern\")\n",
    "regions.append(\"perth\")\n",
    "regions.append(\"wheatbelt\")\n",
    "regions.append(\"cannington\")\n",
    "regions.append(\"joondalup\")\n",
    "regions.append(\"mid_west-gascoyne\")\n",
    "regions.append(\"plibara\")\n",
    "regions.append(\"fremantle\")\n",
    "regions.append(\"kimberley\")\n",
    "regions.append(\"midland\")\n",
    "\n",
    "metro_region = []\n",
    "metro_region.append(\"metropolitan\")\n",
    "metro_region.append(\"regional\")\n",
    "\n",
    "crime_all_df = pd.DataFrame()\n",
    "crime_metro_region_all_df = pd.DataFrame()\n",
    "\n",
    "for region in regions:\n",
    "    # load the csv file\n",
    "    file_path = Path(f\"crime-data/wa_crime_{region}.csv\")\n",
    "    temp_df = pd.read_csv(file_path)\n",
    "    # convert the dates\n",
    "    dates = pd.to_datetime(temp_df['Month and Year'], format='%b-%y')\n",
    "    last_days = dates + pd.offsets.MonthEnd(1)\n",
    "    temp_df['Month and Year'] = last_days\n",
    "    # add the region\n",
    "    temp_df[\"region\"] = region\n",
    "    crime_all_df = pd.concat([crime_all_df, temp_df])\n",
    "\n",
    "for region in metro_region:\n",
    "    file_path = Path(f\"crime-data/wa_crime_{region}.csv\")\n",
    "    temp_df = pd.read_csv(file_path)\n",
    "    temp_df[\"region\"] = region\n",
    "    crime_metro_region_all_df = pd.concat([crime_metro_region_all_df, temp_df])\n",
    "\n",
    "display(crime_all_df)"
   ]
  },
  {
   "cell_type": "code",
   "execution_count": null,
   "id": "a46b6900",
   "metadata": {},
   "outputs": [],
   "source": [
    "# your pandas Series\n",
    "s = pd.Series(['Mar-07', 'Apr-08', 'May-09'])\n",
    "\n",
    "# convert the date strings to datetime format\n",
    "dates = pd.to_datetime(s, format='%b-%y')\n",
    "\n",
    "# find the last day of the month for each date\n",
    "last_days = dates + pd.offsets.MonthEnd(1)\n",
    "\n",
    "print(last_days)"
   ]
  }
 ],
 "metadata": {
  "kernelspec": {
   "display_name": "Python 3 (ipykernel)",
   "language": "python",
   "name": "python3"
  },
  "language_info": {
   "codemirror_mode": {
    "name": "ipython",
    "version": 3
   },
   "file_extension": ".py",
   "mimetype": "text/x-python",
   "name": "python",
   "nbconvert_exporter": "python",
   "pygments_lexer": "ipython3",
   "version": "3.10.13"
  }
 },
 "nbformat": 4,
 "nbformat_minor": 5
}
