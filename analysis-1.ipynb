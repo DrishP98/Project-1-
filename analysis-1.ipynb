{
 "cells": [
  {
   "cell_type": "code",
   "execution_count": null,
   "id": "b7ad1c39",
   "metadata": {},
   "outputs": [],
   "source": [
    "# Dependencies\n",
    "from matplotlib import pyplot as plt\n",
    "from scipy import stats\n",
    "import numpy as np\n",
    "import pandas as pd\n",
    "from pathlib import Path"
   ]
  },
  {
   "cell_type": "code",
   "execution_count": null,
   "id": "2c7462f2",
   "metadata": {},
   "outputs": [],
   "source": [
    "# load and clean crime datasets\n",
    "def load_crime_data(datasets, path):\n",
    "    df = pd.DataFrame()\n",
    "    for dataset in datasets:\n",
    "        # load the csv file\n",
    "        file_path = Path(f\"{path}{dataset}.csv\")\n",
    "        temp_df = pd.read_csv(file_path)\n",
    "        # convert the dates\n",
    "        dates = pd.to_datetime(temp_df['Month and Year'], format='%m,%y')\n",
    "        \n",
    "        temp_df = temp_df.rename(columns={'Month and Year': 'Date'})\n",
    "        temp_df ['year'] = trmp_df['Date'].dt.year\n",
    "        temp_df = temp_df.set_index('Date')\n",
    "        # add the region\n",
    "        temp_df[\"region\"] = dataset\n",
    "        df = pd.concat([df, temp_df])\n",
    "    return df"
   ]
  },
  {
   "cell_type": "code",
   "execution_count": null,
   "id": "83853667",
   "metadata": {},
   "outputs": [],
   "source": [
    "# Load vehicle data set into pandas\n",
    "\n",
    "regions = [\"goldfields-esperance\", \"mandurah\", \"mirrabooka\", \"south_west\", \"armadale\", \"great_southern\", \"perth\", \"wheatbelt\", \"cannington\", \"joondalup\", \"mid_west-gascoyne\", \"plibara\", \"fremantle\", \"kimberley\", \"midland\"]\n",
    "metro_region = [\"metropolitan\", \"regional\"]\n",
    "\n",
    "crime_all_df = load_crime_data(regions, 'crime-data/wa_crime_')\n",
    "crime_metro_region_all_df = load_crime_data(metro_region, 'crime-data/wa_crime_')\n",
    "\n",
    "crime_metro_region_all_df.head()"
   ]
  },
  {
   "cell_type": "code",
   "execution_count": null,
   "id": "5c9370ea",
   "metadata": {},
   "outputs": [],
   "source": [
    "\n",
    "file_path = Path(f\"other-data/migration-data.csv\")\n",
    "immigation_df = pd.read_csv(file_path)\n",
    "immigation_df = immigation_df[['DateTime', 'WA']]\n",
    "crime_all_quarterly_df = crime_metro_region_all_df.resample('Q').sum()\n",
    "crime_all_quarterly_df = crime_all_quarterly_df.loc['2010-06-01':'2022-07-01']\n",
    "\n",
    "crime_all_quarterly_df\n",
    "\n",
    "\n"
   ]
  }
 ],
 "metadata": {
  "kernelspec": {
   "display_name": "Python 3 (ipykernel)",
   "language": "python",
   "name": "python3"
  },
  "language_info": {
   "codemirror_mode": {
    "name": "ipython",
    "version": 3
   },
   "file_extension": ".py",
   "mimetype": "text/x-python",
   "name": "python",
   "nbconvert_exporter": "python",
   "pygments_lexer": "ipython3",
   "version": "3.10.13"
  }
 },
 "nbformat": 4,
 "nbformat_minor": 5
}
