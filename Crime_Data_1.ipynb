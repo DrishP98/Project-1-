{
 "cells": [
  {
   "cell_type": "code",
   "execution_count": 1,
   "id": "198eb115",
   "metadata": {},
   "outputs": [],
   "source": [
    "# Dependencies\n",
    "from matplotlib import pyplot as plt\n",
    "from scipy import stats\n",
    "import numpy as np\n",
    "import pandas as pd\n",
    "from pathlib import Path"
   ]
  },
  {
   "cell_type": "code",
   "execution_count": 2,
   "id": "a50adc41",
   "metadata": {},
   "outputs": [],
   "source": [
    "# set path\n",
    "crime_all_path = \"crime-data/combined_wacrime.csv\"\n",
    "\n",
    "# read the csv file into pandas and remove unnamed columns\n",
    "crime_all_df = pd.read_csv(crime_all_path, index_col=0, encoding=\"UTF-8\")\n",
    "crime_all_df.loc[:, ~crime_all_df.columns.str.contains('Unnamed')]\n",
    "crime_all_df = crime_all_df.dropna(how=\"any\", axis=0)"
   ]
  },
  {
   "cell_type": "code",
   "execution_count": 27,
   "id": "e4b389f2",
   "metadata": {},
   "outputs": [],
   "source": [
    "# drop the total columns\n",
    "crime_all_df_totals = crime_all_df[['Month and Year',\n",
    "                                    'Homicide Total', \n",
    "                                   'Recent Sexual Offence Total', \n",
    "                                   'Historical Sexual Offence Total',\n",
    "                                   'Assault (Family) Total',\n",
    "                                   'Assault (Non-Family) Total',\n",
    "                                   'Threatening Behaviour (Family) Total',\n",
    "                                   'Threatening Behaviour (Non-Family) Total',\n",
    "                                   'Deprivation of Liberty Total',\n",
    "                                   'Robbery Total',\n",
    "                                   'Burglary Total',\n",
    "                                   'Stealing of Motor Vehicle',\n",
    "                                   'Stealing Total',\n",
    "                                   'Property Damage Total',\n",
    "                                   'Arson Total',\n",
    "                                   'Drug Offences Total',\n",
    "                                   'Receiving and Possession of Stolen Property Total',\n",
    "                                   'Regulated Weapons Offences',\n",
    "                                   'Graffiti',\n",
    "                                   'Fraud & Related Offences Total',\n",
    "                                   'Breach of Violence Restraint Order Total'\n",
    "                                    ]]\n",
    "crime_all_df_totals"
   ]
  },
  {
   "cell_type": "code",
   "execution_count": 28,
   "id": "150e99d1",
   "metadata": {},
   "outputs": [],
   "source": [
    "# drop null values and convert dtype\n",
    "no_date = crime_all_df_totals.drop(columns=[\"Month and Year\"])\n",
    "no_date = no_date.astype(int)\n",
    "no_date"
   ]
  },
  {
   "cell_type": "code",
   "execution_count": 29,
   "id": "d3df6c8f",
   "metadata": {},
   "outputs": [],
   "source": [
    "#count the total numbers of each type of crime\n",
    "count_totals = no_date.loc[:, \"Homicide Total\" : \"Breach of Violence Restraint Order Total\"].sum()\n",
    "count_totals"
   ]
  },
  {
   "cell_type": "code",
   "execution_count": 30,
   "id": "2d787b91",
   "metadata": {},
   "outputs": [],
   "source": [
    "round(count_totals.describe(), 2)"
   ]
  },
  {
   "cell_type": "code",
   "execution_count": 31,
   "id": "4f7b77b1",
   "metadata": {
    "scrolled": true
   },
   "outputs": [],
   "source": [
    "#display above results in bar graph from higest to lowest\n",
    "totals_plot = count_totals.sort_values().plot(kind='barh', figsize=(8,10), alpha=1, align=\"edge\")\n",
    "plt.ylabel(\"Type of crime\")\n",
    "plt.xlabel(\"Total number\")\n",
    "plt.title(\"Highest to lowest type of crimes in WA from Jan 07 - Sep 23\")\n",
    "\n",
    "# save the fig\n",
    "plt.savefig(\"crime-data/Fig1.png\", bbox_inches=\"tight\")\n",
    "\n",
    "plt.show()"
   ]
  },
  {
   "cell_type": "code",
   "execution_count": 33,
   "id": "36b8f5cd",
   "metadata": {},
   "outputs": [],
   "source": [
    "# find the top highest totals and create a string for the remaining\n",
    "high_five = count_totals.sort_values(ascending=False).head(5)\n",
    "other_highfive = count_totals.sort_values(ascending=False).tail(15).sum()"
   ]
  },
  {
   "cell_type": "code",
   "execution_count": 32,
   "id": "ed60979c",
   "metadata": {
    "scrolled": true
   },
   "outputs": [],
   "source": [
    "# enter above found data in a list and plot as pie to visualise top 5 and a slice for all others\n",
    "slices = ['Stealing Total', 'Property Damage Total ', 'Burglary Total', 'Drug Offences Total', 'Fraud & Related Offences Total', 'Others']\n",
    "numbers_top = [2601045, 1096425, 1063386, 783887, 690245, 2384598]\n",
    "colors = [\"yellowgreen\", \"red\", \"deepskyblue\", \"lightcoral\", \"purple\", \"slategrey\"]\n",
    "\n",
    "plt.pie(numbers_top, labels=slices, colors=colors,\n",
    "        autopct=\"%1.1f%%\", shadow=True, startangle=140)\n",
    "\n",
    "plt.axis(\"equal\")\n",
    "plt.title(\"Top 5 crimes in WA 2007-23\")\n",
    "plt.savefig(\"crime-data/Fig2.png\", bbox_inches=\"tight\")\n",
    "plt.show()"
   ]
  },
  {
   "cell_type": "code",
   "execution_count": 34,
   "id": "91b906a8",
   "metadata": {},
   "outputs": [],
   "source": [
    "#group all areas and drop metroplitan/regional as its overlapping\n",
    "region_grouped = no_date.groupby(['Region'])\n",
    "region_totals = region_grouped.sum().transpose()\n",
    "region_totals = region_totals.drop(columns=[\"Metropolitan\", \"Regional\"])\n",
    "region_totals"
   ]
  },
  {
   "cell_type": "code",
   "execution_count": 35,
   "id": "7f8a142d",
   "metadata": {},
   "outputs": [],
   "source": [
    "# create a stacked bar graph for all types against areas\n",
    "region_totals = pd.DataFrame(region_totals)\n",
    "\n",
    "region_totals.plot(kind=\"barh\", stacked=True, figsize=(10,12), alpha=1)\n",
    "plt.title(\"Numbers of different types of crimes displayed by areas 2007-2023\")\n",
    "plt.xlabel(\"Number of each crime\")\n",
    "plt.ylabel(\"Types of crime\")\n",
    "plt.savefig(\"crime-data/Fig3.png\", bbox_inches=\"tight\")\n",
    "plt.show()"
   ]
  },
  {
   "cell_type": "code",
   "execution_count": 36,
   "id": "6efa68e9",
   "metadata": {},
   "outputs": [],
   "source": [
    "# Rename Month and year column to Date\n",
    "crime_all_df_totals = crime_all_df_totals.rename(columns={'Month and Year': 'Date'})\n",
    "\n",
    "# Convert Date column to date time\n",
    "crime_all_df_totals['Date'] = pd.to_datetime(crime_all_df_totals['Date'], format='%b-%y')\n",
    "\n",
    "# Create new columns for Month and Year\n",
    "crime_all_df_totals['Month'] = crime_all_df_totals['Date'].dt.month\n",
    "crime_all_df_totals['Year'] = crime_all_df_totals['Date'].dt.year\n",
    "\n",
    "# Remove the date and month as not relevant to my questions\n",
    "new_df = crime_all_df_totals.drop(columns=[\"Month\", \"Date\"], axis=0)\n",
    "\n",
    "# Set index to Year\n",
    "new_df = new_df.set_index(\"Year\")\n",
    "new_df"
   ]
  },
  {
   "cell_type": "code",
   "execution_count": 37,
   "id": "fd5b1034",
   "metadata": {
    "scrolled": false
   },
   "outputs": [],
   "source": [
    "# Convert to int type\n",
    "new_df = new_df.astype(int)\n",
    "# Group the years\n",
    "years_df = new_df.groupby([\"Year\"])\n",
    "# Grouped year_wacrime_df\n",
    "years_df = years_df.sum().head(17)\n",
    "years_df"
   ]
  },
  {
   "cell_type": "code",
   "execution_count": 38,
   "id": "4a862ce6",
   "metadata": {},
   "outputs": [],
   "source": [
    "round(years_df.describe(), 2)"
   ]
  },
  {
   "cell_type": "code",
   "execution_count": 39,
   "id": "039fb96e",
   "metadata": {},
   "outputs": [],
   "source": [
    "# create a stacked bar chart for types against years\n",
    "plotyear = years_df.transpose()\n",
    "\n",
    "plottear = pd.DataFrame(plotyear)\n",
    "\n",
    "plotyear.plot(kind=\"barh\", stacked=True, figsize=(10,12), alpha=1)\n",
    "plt.title(\"Numbers of different types of crimes displayed by years from 2007-2023\")\n",
    "plt.xlabel(\"Number of each crime\")\n",
    "plt.ylabel(\"Types of crime\")\n",
    "plt.savefig(\"crime-data/Fig4.png\", bbox_inches=\"tight\")\n",
    "plt.show()"
   ]
  },
  {
   "cell_type": "code",
   "execution_count": 40,
   "id": "f05e4400",
   "metadata": {},
   "outputs": [],
   "source": [
    "#summary stats\n",
    "count_totals\n",
    "# Determine which measure of central tendency is most appropriate to describe the data\n",
    "# Determine if there are any potential outliers in the average occupancy in California\n",
    "quartiles = count_totals.quantile([.25,.5,.75])\n",
    "lowerq = quartiles[0.25]\n",
    "upperq = quartiles[0.75]\n",
    "iqr = upperq-lowerq\n",
    "\n",
    "print(f\"The lower quartile of totals of crime types is: {lowerq}\")\n",
    "print(f\"The upper quartile of totals of crime types is: {upperq}\")\n",
    "print(f\"The interquartile range of totals of crime types is: {iqr}\")\n",
    "print(f\"The the median of total number of types of crime is: {quartiles[0.5]} \")\n",
    "\n",
    "lower_bound = lowerq - (1.5*iqr)\n",
    "upper_bound = upperq + (1.5*iqr)\n",
    "print(f\"Values below {lower_bound} could be outliers.\")\n",
    "print(f\"Values above {upper_bound} could be outliers.\")\n",
    "print(\"There are no outliers\")"
   ]
  },
  {
   "cell_type": "code",
   "execution_count": 41,
   "id": "d99337dd",
   "metadata": {},
   "outputs": [],
   "source": [
    "# Create a path variable to find and clean the data\n",
    "combined_wacrime = Path('crime-data/combined_wacrime.csv')\n",
    "combined_wacrime_df = pd.read_csv(combined_wacrime)\n",
    "\n",
    "combined_wacrime_df = combined_wacrime_df[combined_wacrime_df.Region != 'Regional']\n",
    "combined_wacrime_df = combined_wacrime_df[combined_wacrime_df.Region != 'Metropolitan']\n",
    "\n",
    "# Rename Month and year column to Date\n",
    "combined_wacrime_df['Date'] = pd.to_datetime(combined_wacrime_df['Month and Year'], format='%b-%y')\n",
    "\n",
    "# Create new columns for Month and Year\n",
    "combined_wacrime_df['Month'] = combined_wacrime_df['Date'].dt.month\n",
    "combined_wacrime_df['Year'] = combined_wacrime_df['Date'].dt.year\n",
    "\n",
    "# Drop all Nan Rows\n",
    "combined_wacrime_df = combined_wacrime_df.dropna(how='any', axis=0)\n",
    "\n",
    "combined_wacrime_df.head()"
   ]
  },
  {
   "cell_type": "code",
   "execution_count": 42,
   "id": "3ea65155",
   "metadata": {},
   "outputs": [],
   "source": [
    "# Reduce columns (take out all total columns)\n",
    "combined_wacrime_df = combined_wacrime_df[['Month', 'Year','Murder','Attempted / Conspiracy to Murder','Manslaughter',\n",
    "                                            'Driving Causing Death','Sexual Assault','Non-Assaultive Sexual Offences',\n",
    "                                            'Serious Assault (Family)','Common Assault (Family)','Serious Assault (Non-Family)',\n",
    "                                            'Common Assault (Non-Family)','Assault Police Officer','Threatening Behaviour (Family)',\n",
    "                                            'Possess Weapon to Cause Fear (Family)','Threatening Behaviour (Non-Family)',\n",
    "                                            'Possess Weapon to Cause Fear (Non-Family)','Kidnapping / Child Stealing',\n",
    "                                            'Deprivation of Liberty','Robbery (Business)','Robbery (Non-Business)',\n",
    "                                            'Burglary (Dwelling)','Burglary (Non-Dwelling)','Stealing of Motor Vehicle',\n",
    "                                            'Stealing From Motor Vehicle (Contents or Parts)',\n",
    "                                            'Stealing From Retail Premises (Shoplift)','Stealing From Dwelling',\n",
    "                                            'Stealing From Other Premises or Place','Stealing as a Servant',\n",
    "                                            'Stealing (Not Elsewhere Classified)','Criminal Damage','Damage','Cause Bushfire',\n",
    "                                            'Cause Damage by Fire','Other Fire Related Offences','Drug Dealing','Drug Possession',\n",
    "                                            'Possession of Drug Paraphernalia','Cultivate or Manufacture Drugs','Other Drug Offences',\n",
    "                                            'Possess Stolen Property','Receiving Stolen Property','Regulated Weapons Offences',\n",
    "                                            'Graffiti','Forgery','Fraud (Credit Card)','Fraud (Not Elsewhere Classified)',\n",
    "                                            'Breach of Family Violence Restraint Order','Breach of Violence Restraint Order',\n",
    "                                            'Breach of Police Order']]\n",
    "combined_wacrime_df"
   ]
  },
  {
   "cell_type": "code",
   "execution_count": 43,
   "id": "42b65050",
   "metadata": {},
   "outputs": [],
   "source": [
    "# Replace all Nan values with '0'\n",
    "combined_wacrime_df = combined_wacrime_df.replace(np.nan, 0)\n",
    "\n",
    "# Convert all values to integers\n",
    "combined_wacrime_df = combined_wacrime_df.astype(int)\n",
    "\n",
    "# Convert Month to month name\n",
    "combined_wacrime_df['Month'] = pd.to_datetime(combined_wacrime_df['Month'], format='%m').dt.month_name().str.slice(stop=3)                                         \n",
    "                           \n",
    "# Group the years\n",
    "year_wacrime_df = combined_wacrime_df.groupby(['Year'])\n",
    "print(year_wacrime_df)\n",
    "\n",
    "# Grouped year_wacrime_df\n",
    "year_wacrime_df.sum().head(17)"
   ]
  },
  {
   "cell_type": "code",
   "execution_count": 44,
   "id": "510d546d",
   "metadata": {},
   "outputs": [],
   "source": [
    "# Total the number of crimes for each year\n",
    "total_crimes_df = combined_wacrime_df.groupby('Year').sum(numeric_only=True, min_count=0)\n",
    "\n",
    "# Print totals\n",
    "total_crimes_df.sum(axis=1)\n",
    "\n",
    "# Create a Total Crime column\n",
    "total_crimes_df['Total Crimes'] = total_crimes_df.sum(axis=1)\n",
    "\n",
    "# Format Column and print results                 \n",
    "years_df = total_crimes_df.loc[:,['Total Crimes']].head(17).style.format(\"{:,.0f}\")\n",
    "years_df"
   ]
  },
  {
   "cell_type": "code",
   "execution_count": 45,
   "id": "06bf0f27",
   "metadata": {},
   "outputs": [],
   "source": [
    "year_line = total_crimes_df.plot(kind='line', color='green', grid=True, y='Total Crimes', title=('Crime Rate Statistics For Each Year (2007 - 2023)'))\n",
    "year_line.set_ylabel('Total Crimes')\n",
    "year_line.set_xlabel('Year')\n",
    "plt.show"
   ]
  },
  {
   "cell_type": "code",
   "execution_count": 46,
   "id": "f3cf3b53",
   "metadata": {},
   "outputs": [],
   "source": [
    "# Re-create graph in bar chart highlighting each Year\n",
    "years = ['2007', '2008', '2009', '2010', '2011', '2012', '2013', '2014', '2015', '2016', '2017', '2018', '2019', '2020', '2021', '2022', '2023']\n",
    "total_crimes = total_crimes_df['Total Crimes']\n",
    "x_axis = np.arange(0, len(years))\n",
    "tick_locations = []\n",
    "for x in x_axis:\n",
    "    tick_locations.append(x)\n",
    "plt.title('Crime Rate Statistics For Each Year (2007 - 2023)')\n",
    "plt.xlabel('Year')\n",
    "plt.ylabel('Total Crimes')\n",
    "\n",
    "plt.xlim(-0.75, len(years)-.25)\n",
    "plt.ylim(200000, max(total_crimes) + 10000)\n",
    "\n",
    "plt.bar(x_axis, total_crimes, facecolor='lightblue', alpha=0.75, align='center')\n",
    "plt.xticks(tick_locations, years, rotation=45, rotation_mode=\"anchor\", ha=\"right\", wrap=True)\n",
    "plt.show()"
   ]
  },
  {
   "cell_type": "code",
   "execution_count": 49,
   "id": "47627b32",
   "metadata": {},
   "outputs": [],
   "source": [
    "# Drop year column\n",
    "combined_wacrime_df = combined_wacrime_df.drop(columns=['Year'])\n",
    "\n",
    "# Group the Months\n",
    "months_wacrime_df = combined_wacrime_df.groupby(['Month'])\n",
    "print(months_wacrime_df)\n",
    "\n",
    "months_wacrime_df.sum().head(12)\n"
   ]
  },
  {
   "cell_type": "code",
   "execution_count": 50,
   "id": "f5ae8bbe",
   "metadata": {},
   "outputs": [],
   "source": [
    "# Total the number of crimes for each Month over the 17 year period\n",
    "total_crimes_months_df = combined_wacrime_df.groupby('Month').sum(numeric_only=True, min_count=0)\n",
    "\n",
    "# Print totals\n",
    "total_crimes_months_df.sum(axis=1)\n",
    "\n",
    "# Create a Total Crime column\n",
    "total_crimes_months_df['Total Crimes'] = total_crimes_months_df.sum(axis=1)\n",
    "\n",
    "# Reorder the Months\n",
    "new_order = ['Jan', 'Feb', 'Mar', 'Apr', 'May', 'Jun', 'Jul', 'Aug', 'Sep', 'Oct', 'Nov', 'Dec']\n",
    "total_crimes_months_df = total_crimes_months_df.reindex(new_order, axis=0)\n",
    "\n",
    "# Format Column and rows                  \n",
    "months_df = total_crimes_months_df.loc[:,['Total Crimes']].head(12).style.format('{:,.0f}')\n",
    "\n",
    "months_df\n"
   ]
  },
  {
   "cell_type": "code",
   "execution_count": 51,
   "id": "9a0f2957",
   "metadata": {},
   "outputs": [],
   "source": [
    "# Create line graph of results\n",
    "month_plt = total_crimes_months_df.plot(kind='line', grid=True, color='blue', y='Total Crimes', title=('Crime Rate Statistics For Each Month Collectively (2007 - 2023)'))\n",
    "month_plt.set_ylabel('Total Crimes')\n",
    "month_plt.set_xlabel('Month')\n",
    "month_plt.legend(loc='best')\n",
    "plt.show\n"
   ]
  },
  {
   "cell_type": "code",
   "execution_count": 52,
   "id": "d92821aa",
   "metadata": {},
   "outputs": [],
   "source": [
    "# Re-create graph in bar chart highlighting each month\n",
    "months = ['Jan', 'Feb', 'Mar', 'Apr', 'May', 'Jun', 'Jul', 'Aug', 'Sep', 'Oct', 'Nov', 'Dec']\n",
    "total_crimes = total_crimes_months_df['Total Crimes']\n",
    "x_axis = np.arange(0, len(months))\n",
    "tick_locations = []\n",
    "for x in x_axis:\n",
    "    tick_locations.append(x)\n",
    "plt.title('Crime Rate Statistics For Each Month Collectively (2007 - 2023)')\n",
    "plt.xlabel(\"Month\")\n",
    "plt.ylabel('Total Crimes')\n",
    "\n",
    "plt.xlim(-0.75, len(months)-.25)\n",
    "plt.ylim(330000, max(total_crimes) + 10000)\n",
    "\n",
    "plt.bar(x_axis, total_crimes, facecolor='purple', alpha=0.75, align='center')\n",
    "plt.xticks(tick_locations, months)\n",
    "plt.show()"
   ]
  },
  {
   "cell_type": "code",
   "execution_count": null,
   "id": "4744caca",
   "metadata": {},
   "outputs": [],
   "source": []
  }
 ],
 "metadata": {
  "kernelspec": {
   "display_name": "Python 3 (ipykernel)",
   "language": "python",
   "name": "python3"
  },
  "language_info": {
   "codemirror_mode": {
    "name": "ipython",
    "version": 3
   },
   "file_extension": ".py",
   "mimetype": "text/x-python",
   "name": "python",
   "nbconvert_exporter": "python",
   "pygments_lexer": "ipython3",
   "version": "3.11.5"
  }
 },
 "nbformat": 4,
 "nbformat_minor": 5
}
